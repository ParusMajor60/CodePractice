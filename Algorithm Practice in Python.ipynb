{
 "cells": [
  {
   "cell_type": "markdown",
   "metadata": {},
   "source": [
    "题目：\n",
    "\n",
    "有n个石子（n<＝100），A、B双方轮流选取，每次取走若干个石子，取走最后一个石子的一方获胜。要求：第一次不能全部取完；各方每次选取的石子数不能为0，也不能超过上次对方选择的石子数。问：如果A先取，那么第一次应该选几个才能保证获胜？如果第一次有多种策略，则输出石子数最多的一种。"
   ]
  },
  {
   "cell_type": "code",
   "execution_count": 14,
   "metadata": {},
   "outputs": [
    {
     "data": {
      "text/plain": [
       "4"
      ]
     },
     "execution_count": 14,
     "metadata": {},
     "output_type": "execute_result"
    }
   ],
   "source": [
    "# 先举例考虑几种情况，当n为2的m次方时A必输，此外A可以通过第一次选择 n - 2^(m)次方个石子来保证获胜\n",
    "# 如n=4时必输；n=5时拿1个，剩4个，B只能拿1个，BABA；n=6时拿2个，剩4个，B拿2个则A拿最后2个，B拿1个则BABA\n",
    "# 解题方法不是试图用程序模拟游戏过程，而是自己在纸上分析如何取胜，将取胜办法输入程序即可\n",
    "\n",
    "def is_powerof2(x):\n",
    "    while x >= 2:\n",
    "        x = x/2\n",
    "    if x == 1:\n",
    "        return 1\n",
    "    else:\n",
    "        return 0\n",
    "    \n",
    "\n",
    "def game(n):\n",
    "    if is_powerof2(n):\n",
    "        print('Will lose.')\n",
    "        return 0\n",
    "    m = 0\n",
    "    while 2**m < n:\n",
    "        m = m + 1\n",
    "    A_first = n - 2**(m-1)\n",
    "    \n",
    "    return A_first\n",
    "\n",
    "game(12)"
   ]
  },
  {
   "cell_type": "markdown",
   "metadata": {},
   "source": [
    "题目：\n",
    "\n",
    "将一个圆形等分成N个小扇形，将这些扇形标记为1,2，...,N。现在使用M种颜色对每个扇形进行涂色，每个扇形涂一种颜色，且相邻的扇形颜色不同。\n",
    "求：有多少种涂色方法。\n",
    "\n",
    "备注：\n",
    "1.不考虑数值越界的情况\n",
    "2.N >= 1, M >= 3\n",
    "3.一个例子：如果N=3,M=3时，共有6种涂法\n"
   ]
  },
  {
   "cell_type": "code",
   "execution_count": 21,
   "metadata": {},
   "outputs": [
    {
     "data": {
      "text/plain": [
       "18"
      ]
     },
     "execution_count": 21,
     "metadata": {},
     "output_type": "execute_result"
    }
   ],
   "source": [
    "# 解题思路参考：http://wangwlj.com/2018/03/05/coding_dye_problem/\n",
    "# 编程采用递归实现\n",
    "\n",
    "def coloring(N,M):\n",
    "    if N == 1:\n",
    "        return M\n",
    "    elif N == 2:\n",
    "        return M*(M-1)\n",
    "    \n",
    "    return M*(M-1)**(N-1)-coloring(N-1,M)\n",
    "    \n",
    "\n",
    "coloring(4,3)\n",
    "    "
   ]
  },
  {
   "cell_type": "markdown",
   "metadata": {},
   "source": [
    "题目：\n",
    "\n",
    "有n个正整数（每个数小于10亿），将它们表示成字符串形式。对每一个字符串s，可以翻转为新字符串s’，如“1234”可以翻转成“4321”。 \n",
    "现在，将这n个字符串以任意顺序连成一个字符环，每个字符串可以选择是否翻转。在字符环中，从任意一个位置开始，遍历整个环，得到一个长整数。请问，如何才能得到最大的长整数。"
   ]
  },
  {
   "cell_type": "code",
   "execution_count": null,
   "metadata": {
    "collapsed": true
   },
   "outputs": [],
   "source": []
  },
  {
   "cell_type": "markdown",
   "metadata": {},
   "source": [
    "题目：\n",
    "\n",
    "小明向他的女朋友仙仙求婚，在求婚戒指上刻了一个大大的爱心。仙仙看到爱心想考验一下小明，出了一道题。方程(x2+y2−1)2−x2y2=0能画出一个美丽的爱心，现在给定一个点(x,y)，其中，X∼N((μ1,σ21)，Y∼N((μ2,σ22)，这个点在这个爱心里面的概率是多少，精确到0.1（小数点后保留一位小数，比如0.1, 0.2等）"
   ]
  },
  {
   "cell_type": "code",
   "execution_count": null,
   "metadata": {
    "collapsed": true
   },
   "outputs": [],
   "source": []
  },
  {
   "cell_type": "code",
   "execution_count": null,
   "metadata": {
    "collapsed": true
   },
   "outputs": [],
   "source": []
  }
 ],
 "metadata": {
  "kernelspec": {
   "display_name": "Python 3",
   "language": "python",
   "name": "python3"
  },
  "language_info": {
   "codemirror_mode": {
    "name": "ipython",
    "version": 3
   },
   "file_extension": ".py",
   "mimetype": "text/x-python",
   "name": "python",
   "nbconvert_exporter": "python",
   "pygments_lexer": "ipython3",
   "version": "3.6.3"
  }
 },
 "nbformat": 4,
 "nbformat_minor": 2
}
