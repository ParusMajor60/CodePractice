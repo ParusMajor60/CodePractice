{
 "cells": [
  {
   "cell_type": "markdown",
   "metadata": {},
   "source": [
    "# 算法练习\n",
    "题目来源：Leetcode，剑指offer，校招真题\n",
    "\n",
    "编程语言：Python\n",
    "\n",
    "========================================================================================================================"
   ]
  },
  {
   "cell_type": "markdown",
   "metadata": {},
   "source": [
    "## 斐波那契数列 Fibonacci"
   ]
  },
  {
   "cell_type": "code",
   "execution_count": 4,
   "metadata": {},
   "outputs": [
    {
     "name": "stdout",
     "output_type": "stream",
     "text": [
      "1\n",
      "1\n",
      "2\n",
      "3\n",
      "5\n",
      "8\n",
      "13\n",
      "21\n",
      "34\n",
      "1\n",
      "1\n",
      "2\n",
      "3\n",
      "5\n",
      "8\n",
      "13\n",
      "21\n",
      "34\n",
      "1\n",
      "1\n",
      "2\n",
      "3\n",
      "5\n",
      "8\n",
      "13\n",
      "21\n",
      "34\n"
     ]
    }
   ],
   "source": [
    "# 使用 yield 和 next的方法\n",
    "def fib_gen():\n",
    "    x,y=1,1\n",
    "    while True:\n",
    "        yield x\n",
    "        x,y = y,x+y\n",
    "        \n",
    "fib = fib_gen()\n",
    "for i in range(9):\n",
    "    print(next(fib))\n",
    "    \n",
    "# 使用 yield 的方法\n",
    "def fib_gen2(max):\n",
    "    n, a, b = 0, 0, 1\n",
    "    while n < max:\n",
    "        yield b\n",
    "        a, b = b, a + b\n",
    "        n = n + 1\n",
    "        \n",
    "for i in fib_gen2(9):\n",
    "    print(i)\n",
    "\n",
    "# 普通function\n",
    "def fib_fun(max):\n",
    "    n, a, b = 0, 0, 1\n",
    "    while n < max:\n",
    "        print(b)\n",
    "        a, b = b, a + b\n",
    "        n = n + 1\n",
    "        \n",
    "fib_fun(9)"
   ]
  },
  {
   "cell_type": "markdown",
   "metadata": {},
   "source": [
    "## 输入一个矩阵，按照从外向里以顺时针的顺序依次打印出每一个数字\n",
    "例如，如果输入如下4 X 4矩阵：\n",
    "\n",
    "1 2 3 4 \n",
    "\n",
    "5 6 7 8 \n",
    "\n",
    "9 10 11 12 \n",
    "\n",
    "13 14 15 16 \n",
    "\n",
    "则依次打印出数字1,2,3,4,8,12,16,15,14,13,9,5,6,7,11,10."
   ]
  },
  {
   "cell_type": "code",
   "execution_count": 6,
   "metadata": {},
   "outputs": [
    {
     "name": "stdout",
     "output_type": "stream",
     "text": [
      "[1, 2, 3, 4, 8, 12, 16, 15, 14, 13, 9, 5, 6, 7, 11, 10]\n"
     ]
    }
   ],
   "source": [
    "class Solution:\n",
    "    # matrix类型为二维列表，需要返回列表\n",
    "    def printMatrix(self, matrix):\n",
    "        # write code here\n",
    "        row1 = len(matrix)\n",
    "        col1 = len(matrix[0][:])\n",
    "        row2 = 0\n",
    "        col2 = 0\n",
    "        total = row1*col1\n",
    "        count = 0\n",
    "        i = 0\n",
    "        j = 0\n",
    "        flag = 0\n",
    "        result = []\n",
    "        while count < total:\n",
    "            result.append(matrix[i][j])\n",
    "            #print(matrix[i][j])\n",
    "            count = count+1\n",
    "            if flag == 0:\n",
    "                if j+1 < col1:\n",
    "                    j = j+1\n",
    "                    continue\n",
    "                else:\n",
    "                    i = i+1\n",
    "                    flag = 1\n",
    "                    row2 = row2+1\n",
    "                    continue\n",
    "            if flag == 1:\n",
    "                if i+1 < row1:\n",
    "                    i = i+1\n",
    "                    continue\n",
    "                else:\n",
    "                    j = j-1\n",
    "                    flag = 2\n",
    "                    col1 = col1-1\n",
    "                    continue\n",
    "            if flag == 2:\n",
    "                if j-1 >= col2:\n",
    "                    j = j-1\n",
    "                    continue\n",
    "                else:\n",
    "                    i = i-1\n",
    "                    flag = 3\n",
    "                    row1 = row1-1\n",
    "                    continue\n",
    "            if flag == 3:\n",
    "                if i-1 >= row2:\n",
    "                    i = i-1\n",
    "                    continue\n",
    "                else:\n",
    "                    j = j+1\n",
    "                    flag = 0\n",
    "                    col2 = col2+1\n",
    "                    continue\n",
    "        print(result)\n",
    "        return result\n",
    "\n",
    "a=[[1,2,3,4],[5,6,7,8],[9,10,11,12],[13,14,15,16]]\n",
    "sol = Solution()\n",
    "test = sol.printMatrix(a)"
   ]
  },
  {
   "cell_type": "markdown",
   "metadata": {},
   "source": [
    "## 小A参加一个n人的活动，每个人都有一个编号（0<=i<=n-1），其中有m对相互认识，\n",
    "在活动中两个人可以通过互相都认识都认识的一个人介绍认识。现在问活动结束后，小A最多会新认识多少人？\n",
    "\n",
    "输入:\n",
    "第一行是聚会人数n\n",
    "第二行是小A的编号a\n",
    "接下来m行为互相认识的对，以’,'分割\n",
    "\n",
    "输出：\n",
    "小A最多会新认识多少人的人数。\n",
    "\n",
    "样例输入：\n",
    "\n",
    "7\n",
    "\n",
    "5\n",
    "\n",
    "6\n",
    "\n",
    "1,0\n",
    "\n",
    "3,1\n",
    "\n",
    "4,1\n",
    "\n",
    "5,3\n",
    "\n",
    "6,1\n",
    "\n",
    "6,5\n",
    "\n",
    "样例输出：\n",
    "\n",
    "3\n",
    "\n",
    "提示：\n",
    "小A新认识的人为【0，1，4】"
   ]
  },
  {
   "cell_type": "code",
   "execution_count": null,
   "metadata": {
    "collapsed": true
   },
   "outputs": [],
   "source": [
    "#网友答案参考：\n",
    "n = eval(input())\n",
    "a = eval(input())\n",
    "m = eval(input())\n",
    "from collections import defaultdict\n",
    "d = defaultdict(list)\n",
    "for i in range(m):\n",
    "    start,end  = map(int,input().split(','))\n",
    "    d[start].append(end)\n",
    "    d[end].append(start)\n",
    "\n",
    "visited = [False]*n\n",
    "visited[a] = True\n",
    "friend = set()\n",
    "\n",
    "def recur(i):\n",
    "    if (i != a) and (i not in d[a]):\n",
    "    \t#注意不要把小A和小A初始已经认识的朋友加入集合中\n",
    "        friend.add(i)\n",
    "    if (d[i] == []):\n",
    "        return\n",
    "    for re in d[i]:\n",
    "        if visited[re] == False:\n",
    "            visited[re] = True\n",
    "            recur(re)\n",
    "            #visited[re] = False\n",
    "            #注意这里在递归回来时不用恢复visited，因为在这里只需要考虑深度遍历到的有哪些节点\n",
    "            #而是不是新朋友，交给递归函数里的第一个if判断就可以了\n",
    "            #加了这句反而会使有些节点被重复得递归到\n",
    "            \n",
    "recur(a)\n",
    "print(len(friend))"
   ]
  },
  {
   "cell_type": "markdown",
   "metadata": {},
   "source": [
    "## 在一个二维数组中（每个一维数组的长度相同），每一行都按照从左到右递增的顺序排序，\n",
    "每一列都按照从上到下递增的顺序排序。请完成一个函数，输入这样的一个二维数组和一个整数，判断数组中是否含有该整数。"
   ]
  },
  {
   "cell_type": "code",
   "execution_count": 10,
   "metadata": {},
   "outputs": [
    {
     "name": "stdout",
     "output_type": "stream",
     "text": [
      "True\n"
     ]
    }
   ],
   "source": [
    "class Solution:\n",
    "    # array 二维列表\n",
    "    def Find(self, target, array):         \n",
    "        for j in range(len(array)):\n",
    "            arr = array[j][:]\n",
    "            f = [target == x for x in arr]\n",
    "            if any(f):\n",
    "                return True\n",
    "        \n",
    "        return False\n",
    "            \n",
    "tar = 7\n",
    "array = [[1,2,8,9],[2,4,9,12],[4,7,10,13],[6,8,11,15]]\n",
    "sol = Solution()\n",
    "print(sol.Find(tar,array))"
   ]
  },
  {
   "cell_type": "markdown",
   "metadata": {},
   "source": [
    "## 一只青蛙一次可以跳上1级台阶，也可以跳上2级。求该青蛙跳上一个n级的台阶总共有多少种跳法（先后次序不同算不同的结果）。"
   ]
  },
  {
   "cell_type": "code",
   "execution_count": 14,
   "metadata": {},
   "outputs": [
    {
     "name": "stdout",
     "output_type": "stream",
     "text": [
      "8\n"
     ]
    }
   ],
   "source": [
    "# fibonacci数列思想，只能从第n-1或n-2级跳上第n级，则 F(n) = F(n-1) + F(n-2) \n",
    "class Solution:\n",
    "    def jumpFloor(self, number):\n",
    "        # write code here \n",
    "        n, a, b = 0, 0, 1\n",
    "        while n < number:\n",
    "            a, b = b, a + b\n",
    "            n = n + 1\n",
    "        return b\n",
    "    \n",
    "sol = Solution()\n",
    "print(sol.jumpFloor(5))"
   ]
  },
  {
   "cell_type": "markdown",
   "metadata": {},
   "source": [
    "## 丑数\n",
    "把只包含质因子2、3和5的数称作丑数（Ugly Number）。例如6、8都是丑数，但14不是，\n",
    "因为它包含质因子7。 习惯上我们把1当做是第一个丑数。求按从小到大的顺序的第N个丑数。"
   ]
  },
  {
   "cell_type": "code",
   "execution_count": 18,
   "metadata": {},
   "outputs": [
    {
     "name": "stdout",
     "output_type": "stream",
     "text": [
      "8\n"
     ]
    }
   ],
   "source": [
    "# 任何丑数 = 2x + 3y + 5z\n",
    "class Solution:\n",
    "    def GetUglyNumber(self, index):\n",
    "            if index == 0:\n",
    "                return 0\n",
    "            n = 1\n",
    "            t2,t3,t5 = 0,0,0\n",
    "            nums = [0]*index\n",
    "            nums[0] = 1\n",
    "            while n < index:\n",
    "                tmp2 = 2*nums[t2]\n",
    "                tmp3 = 3*nums[t3]\n",
    "                tmp5 = 5*nums[t5]\n",
    "                tmps = [tmp2,tmp3,tmp5]\n",
    "                nums[n] = min(tmps)\n",
    "                if nums[n] == 2*nums[t2]:\n",
    "                    t2=t2+1\n",
    "                if nums[n] == 3*nums[t3]:\n",
    "                    t3=t3+1\n",
    "                if nums[n] == 5*nums[t5]:\n",
    "                    t5=t5+1\n",
    "                n = n+1            \n",
    "            return nums[index-1]\n",
    "    \n",
    "sol = Solution()\n",
    "print(sol.GetUglyNumber(7))"
   ]
  },
  {
   "cell_type": "markdown",
   "metadata": {},
   "source": [
    "## 一个整型数组里除了两个数字之外，其他的数字都出现了偶数次。请写程序找出这两个只出现一次的数字。"
   ]
  },
  {
   "cell_type": "code",
   "execution_count": 20,
   "metadata": {},
   "outputs": [
    {
     "name": "stdout",
     "output_type": "stream",
     "text": [
      "[2, 5]\n"
     ]
    }
   ],
   "source": [
    "class Solution:\n",
    "    # 返回[a,b] 其中ab是出现一次的两个数字\n",
    "    def FindNumsAppearOnce(self, array):\n",
    "        tmp = []\n",
    "        for i in array:\n",
    "            if i not in tmp:\n",
    "                tmp.append(i)\n",
    "            elif i in tmp:\n",
    "                tmp.remove(i)\n",
    "                \n",
    "        return tmp\n",
    "    \n",
    "sol = Solution()\n",
    "print(sol.FindNumsAppearOnce([1,1,2,3,3,3,3,4,4,5,6,6]))   "
   ]
  },
  {
   "cell_type": "markdown",
   "metadata": {},
   "source": [
    "## 输入n个整数，找出其中最小的K个数。例如输入4,5,1,6,2,7,3,8这8个数字，则最小的4个数字是1,2,3,4,。"
   ]
  },
  {
   "cell_type": "code",
   "execution_count": 21,
   "metadata": {},
   "outputs": [
    {
     "name": "stdout",
     "output_type": "stream",
     "text": [
      "[0, 1, 1, 2]\n"
     ]
    }
   ],
   "source": [
    "class Solution:\n",
    "    def GetLeastNumbers_Solution(self, tinput, k):\n",
    "        if k > len(tinput):\n",
    "            return []\n",
    "        tinput.sort()\n",
    "        return tinput[:k]\n",
    "    \n",
    "sol = Solution()\n",
    "print(sol.GetLeastNumbers_Solution([1,1,2,0,3,7,3,4,4,5,5,2],4))   "
   ]
  },
  {
   "cell_type": "markdown",
   "metadata": {},
   "source": [
    "## 输入一个递增排序的数组和一个数字S，在数组中查找两个数，使得他们的和正好是S，\n",
    "如果有多对数字的和等于S，输出两个数的乘积最小的。"
   ]
  },
  {
   "cell_type": "code",
   "execution_count": 22,
   "metadata": {},
   "outputs": [
    {
     "name": "stdout",
     "output_type": "stream",
     "text": [
      "[1, 8]\n"
     ]
    }
   ],
   "source": [
    "class Solution:\n",
    "    def FindNumbersWithSum(self, array, tsum):\n",
    "        lib = {}\n",
    "        res = []\n",
    "        for i in range(len(array)):\n",
    "            if array[i] not in lib:\n",
    "                lib[tsum - array[i]] = i\n",
    "            else:\n",
    "                res.append([array[lib[array[i]]],array[i]])\n",
    "        \n",
    "        prod = 1e12\n",
    "        ans = []\n",
    "        for j in res:\n",
    "            if j[0]*j[1] < prod:\n",
    "                prod = j[0]*j[1]\n",
    "                ans = j\n",
    "        return ans\n",
    "    \n",
    "sol = Solution()\n",
    "print(sol.FindNumbersWithSum([1,1,2,2,3,4,5,5,6,7,7,8],9))   "
   ]
  },
  {
   "cell_type": "markdown",
   "metadata": {},
   "source": [
    "## Longest Substring Without Repeating Characters"
   ]
  },
  {
   "cell_type": "code",
   "execution_count": 27,
   "metadata": {},
   "outputs": [
    {
     "name": "stdout",
     "output_type": "stream",
     "text": [
      "cbead\n"
     ]
    }
   ],
   "source": [
    "class Solution:\n",
    "    def LongestSubstring(self, string):\n",
    "        res = []\n",
    "        max_len = 0\n",
    "        for i in range(len(string)):\n",
    "            tmp = string[i]\n",
    "            for j in range(i+1,len(string)):               \n",
    "                if string[j] not in tmp:\n",
    "                    tmp = tmp+string[j]\n",
    "                else:\n",
    "                    break\n",
    "            if len(tmp) > max_len:\n",
    "                max_len = len(tmp)\n",
    "                res = tmp\n",
    "                \n",
    "        return res\n",
    "\n",
    "sol = Solution()\n",
    "print(sol.LongestSubstring('abccbeadeac'))"
   ]
  },
  {
   "cell_type": "markdown",
   "metadata": {},
   "source": [
    "## 打印多层星号金字塔以及数字金字塔\n",
    "* 打印一个没有返回值的function会输出None"
   ]
  },
  {
   "cell_type": "code",
   "execution_count": 29,
   "metadata": {},
   "outputs": [
    {
     "name": "stdout",
     "output_type": "stream",
     "text": [
      "    *\n",
      "   ***\n",
      "  *****\n",
      " *******\n",
      "*********\n",
      "[5]\n",
      "[5, 4]\n",
      "[5, 4, 3]\n",
      "[5, 4, 3, 2]\n",
      "[5, 4, 3, 2, 1]\n",
      "[5]\n",
      "[5, 4]\n",
      "[5, 4, 3]\n",
      "[5, 4, 3, 2]\n",
      "[5, 4, 3, 2, 1]\n",
      "[5]\n",
      "[5, 4]\n",
      "[5, 4, 3]\n",
      "[5, 4, 3, 2]\n",
      "[5, 4, 3, 2, 1]\n",
      "None\n"
     ]
    }
   ],
   "source": [
    "def test(n):\n",
    "    for i in range(n):\n",
    "        print(' '*(n-i-1)+'*'*(2*i+1))\n",
    "        \n",
    "test(5)\n",
    "\n",
    "def test2(n):\n",
    "    arr = list(range(1,n+1))\n",
    "    for i in range(n):\n",
    "        print(arr[-1:-i-2:-1])\n",
    "        \n",
    "test2(5)\n",
    "    \n",
    "def test3(n):\n",
    "    for i in range(n):\n",
    "        arr = list(range(n-i,n+1))\n",
    "        print(arr[::-1])\n",
    "        \n",
    "test3(5)\n",
    "print(test3(5))"
   ]
  },
  {
   "cell_type": "markdown",
   "metadata": {},
   "source": [
    "## Two sum"
   ]
  },
  {
   "cell_type": "code",
   "execution_count": 32,
   "metadata": {},
   "outputs": [
    {
     "name": "stdout",
     "output_type": "stream",
     "text": [
      "[1, 3]\n"
     ]
    }
   ],
   "source": [
    "class Solution:\n",
    "    def twoSum(self, nums, target):\n",
    "        \"\"\"\n",
    "        :type nums: List[int]\n",
    "        :type target: int\n",
    "        :rtype: List[int]\n",
    "        \"\"\"\n",
    "        dict = {}\n",
    "        for i in range(len(nums)):\n",
    "            if nums[i] in dict:\n",
    "                return [dict[nums[i]],i]\n",
    "            else:\n",
    "                dict[target-nums[i]] = i\n",
    "                \n",
    "sol = Solution\n",
    "print(sol.twoSum(sol,[2,3,1,4], 7))\n",
    "# 返回的是所求的两个数在数组中的位置"
   ]
  },
  {
   "cell_type": "markdown",
   "metadata": {},
   "source": [
    "## 一个人捡走了金闪闪的武器放在自己店里卖\n",
    "\n",
    "所有武器排成一列，对每一个客人，随机分配一个区间，客人可以从区间里任意选择三件武器，如果这三件武器的长度能够组成一个三角形，则可以召唤出一个山寨金闪闪，问如果有n件武器，m个客人，可以召唤出多少山寨金闪闪？\n",
    "\n",
    "输入：\n",
    "\n",
    "第一行是武器的件数n，第二行是每件武器的长度，第三行是客人数量m，接下来的m行是每个客人分配到的区间\n",
    "\n",
    "样例输入：\n",
    "\n",
    "5\n",
    "\n",
    "1 10 100 95 101\n",
    "\n",
    "4\n",
    "\n",
    "1 3\n",
    "\n",
    "2 4\n",
    "\n",
    "2 5\n",
    "\n",
    "3 5\n",
    "\n",
    "要求输出：\n",
    "\n",
    "能够召唤出的山寨金闪闪数量 （样例输出为3）"
   ]
  },
  {
   "cell_type": "code",
   "execution_count": 35,
   "metadata": {},
   "outputs": [
    {
     "name": "stdout",
     "output_type": "stream",
     "text": [
      "5\n",
      "1 10 100 95 101\n",
      "4\n",
      "1 3\n",
      "2 4\n",
      "2 5\n",
      "3 5\n",
      "3\n"
     ]
    }
   ],
   "source": [
    "from itertools import combinations\n",
    "\n",
    "n = eval(input())\n",
    "lengths = []\n",
    "lengths  = list(map(int,input().split(' ')))\n",
    "\n",
    "m = eval(input())\n",
    "intervals = []\n",
    "for i in range(m):\n",
    "    start,end  = map(int,input().split(' '))\n",
    "    intervals.append([start,end])\n",
    "    \n",
    "#args = input().split('\\n')\n",
    "#n = int(args[0])\n",
    "#lengths = list(map(int,args[1].split(' ')))\n",
    "#m = int(args[2])\n",
    "#intervals = []\n",
    "#for i in range(m):\n",
    "    #tmp = list(map(int,args[i+3].split(' ')))\n",
    "    #intervals.append(tmp)\n",
    "    \n",
    "class Solution:\n",
    "    def howmanyJinpika(self, n, lengths, m, intervals):\n",
    "        count = 0\n",
    "        for i in range(m):\n",
    "            l = intervals[i][0] -1\n",
    "            r = intervals[i][1] -1\n",
    "            if r-l < 2:\n",
    "                raise Exception(\"No enough weapons\")\n",
    "            coms = list(combinations(lengths[l:r+1],3))\n",
    "            for j in coms:\n",
    "                if j[0]+j[1]>j[2] and j[0]+j[2]>j[1] and j[1]+j[2]>j[0]:\n",
    "                    count = count+1\n",
    "                    break\n",
    "                    \n",
    "        return count\n",
    "    \n",
    "sol = Solution()\n",
    "print(sol.howmanyJinpika(n, lengths, m, intervals))"
   ]
  },
  {
   "cell_type": "code",
   "execution_count": null,
   "metadata": {
    "collapsed": true
   },
   "outputs": [],
   "source": []
  },
  {
   "cell_type": "code",
   "execution_count": null,
   "metadata": {
    "collapsed": true
   },
   "outputs": [],
   "source": []
  }
 ],
 "metadata": {
  "kernelspec": {
   "display_name": "Python 3",
   "language": "python",
   "name": "python3"
  },
  "language_info": {
   "codemirror_mode": {
    "name": "ipython",
    "version": 3
   },
   "file_extension": ".py",
   "mimetype": "text/x-python",
   "name": "python",
   "nbconvert_exporter": "python",
   "pygments_lexer": "ipython3",
   "version": "3.6.3"
  }
 },
 "nbformat": 4,
 "nbformat_minor": 2
}
